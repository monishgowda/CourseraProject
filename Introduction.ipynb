{
 "cells": [
  {
   "cell_type": "markdown",
   "metadata": {},
   "source": [
    "# The Battle of Neighborhoods \n",
    "\n",
    "## Introduction"
   ]
  },
  {
   "cell_type": "markdown",
   "metadata": {},
   "source": [
    "The goal of this project is to assist people in discovering better amenities in their area. It will assist individuals in making informed and efficient decisions on which great neighborhood to choose from among the many in Scarborough, Toranto."
   ]
  },
  {
   "cell_type": "markdown",
   "metadata": {},
   "source": [
    "Many individuals are traveling to different parts of Canada, and they need to do a lot of research to find affordable housing and reputable schools for their children. This project is for folks who want to live in a more desirable neighborhood. For easy access to cafes, schools, supermarkets, medical and food stores, malls, theaters, hospitals, and like-minded people, among other things."
   ]
  },
  {
   "cell_type": "markdown",
   "metadata": {},
   "source": [
    "This project aims to produce a feature analysis for people migrating to Scarborough in order to find the best area by comparing communities. The features include median house prices and better schools based on ratings, local crime rates, road connectivity, weather conditions, good emergency management, fresh and waste water supplies, excrement carried through sewers, and recreational amenities."
   ]
  },
  {
   "cell_type": "markdown",
   "metadata": {},
   "source": [
    "# Problem statement"
   ]
  },
  {
   "cell_type": "markdown",
   "metadata": {},
   "source": [
    "The main goal of this initiative is to recommend a better neighborhood in a new city to people who are new to the area. In terms of like-minded people, there is a social presence in society. Access to the airport, bus station, city center, markets, and other necessities in the area.\n",
    "\n",
    "Sorted list of house in terms of housing prices in a ascending or descending order\n",
    "\n",
    "Sorted list of schools in terms of location, fees, rating and reviews"
   ]
  },
  {
   "cell_type": "code",
   "execution_count": null,
   "metadata": {},
   "outputs": [],
   "source": []
  }
 ],
 "metadata": {
  "kernelspec": {
   "display_name": "Python 3",
   "language": "python",
   "name": "python3"
  },
  "language_info": {
   "codemirror_mode": {
    "name": "ipython",
    "version": 3
   },
   "file_extension": ".py",
   "mimetype": "text/x-python",
   "name": "python",
   "nbconvert_exporter": "python",
   "pygments_lexer": "ipython3",
   "version": "3.7.4"
  }
 },
 "nbformat": 4,
 "nbformat_minor": 2
}
